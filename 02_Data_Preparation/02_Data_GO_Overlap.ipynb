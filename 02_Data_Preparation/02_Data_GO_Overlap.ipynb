{
 "cells": [
  {
   "cell_type": "code",
   "execution_count": 1,
   "metadata": {},
   "outputs": [],
   "source": [
    "import pandas as pd\n",
    "\n",
    "not_to_be_selected_list=[\n",
    "       'Activity Summary', 'Viability Activity', 'PUBCHEM_ACTIVITY_SCORE',\n",
    "       'Viability Potency (uM)', 'Viability Efficacy (%)', \"index\"]"
   ]
  },
  {
   "cell_type": "code",
   "execution_count": 2,
   "metadata": {},
   "outputs": [
    {
     "data": {
      "text/html": [
       "<div>\n",
       "<style scoped>\n",
       "    .dataframe tbody tr th:only-of-type {\n",
       "        vertical-align: middle;\n",
       "    }\n",
       "\n",
       "    .dataframe tbody tr th {\n",
       "        vertical-align: top;\n",
       "    }\n",
       "\n",
       "    .dataframe thead th {\n",
       "        text-align: right;\n",
       "    }\n",
       "</style>\n",
       "<table border=\"1\" class=\"dataframe\">\n",
       "  <thead>\n",
       "    <tr style=\"text-align: right;\">\n",
       "      <th></th>\n",
       "      <th>StdInChI</th>\n",
       "      <th>PUBCHEM_ACTIVITY_OUTCOME</th>\n",
       "    </tr>\n",
       "  </thead>\n",
       "  <tbody>\n",
       "    <tr>\n",
       "      <th>0</th>\n",
       "      <td>InChI=1S/2Bi.3O.4H</td>\n",
       "      <td>Inactive</td>\n",
       "    </tr>\n",
       "    <tr>\n",
       "      <th>1</th>\n",
       "      <td>InChI=1S/2C10H13N3.H2O4S/c2*11-10(12)13-6-5-8-...</td>\n",
       "      <td>Inactive</td>\n",
       "    </tr>\n",
       "    <tr>\n",
       "      <th>2</th>\n",
       "      <td>InChI=1S/2C10H13NO4.3H2O/c2*1-10(11,9(14)15)5-...</td>\n",
       "      <td>Inactive</td>\n",
       "    </tr>\n",
       "    <tr>\n",
       "      <th>3</th>\n",
       "      <td>InChI=1S/2C10H14N2.H2O4S/c2*1-12-7-3-5-10(12)9...</td>\n",
       "      <td>Inactive</td>\n",
       "    </tr>\n",
       "    <tr>\n",
       "      <th>4</th>\n",
       "      <td>InChI=1S/2C10H15N3.H2O4S/c2*1-11-10(12-2)13-8-...</td>\n",
       "      <td>Inactive</td>\n",
       "    </tr>\n",
       "    <tr>\n",
       "      <th>...</th>\n",
       "      <td>...</td>\n",
       "      <td>...</td>\n",
       "    </tr>\n",
       "    <tr>\n",
       "      <th>7141</th>\n",
       "      <td>InChI=1S/N3.Na/c1-3-2;/q-1;+1</td>\n",
       "      <td>Inactive</td>\n",
       "    </tr>\n",
       "    <tr>\n",
       "      <th>7142</th>\n",
       "      <td>InChI=1S/NO3.Na/c2-1(3)4;/q-1;+1</td>\n",
       "      <td>Inactive</td>\n",
       "    </tr>\n",
       "    <tr>\n",
       "      <th>7143</th>\n",
       "      <td>InChI=1S/NO3.Tl/c2-1(3)4;/q-1;+1</td>\n",
       "      <td>Inactive</td>\n",
       "    </tr>\n",
       "    <tr>\n",
       "      <th>7144</th>\n",
       "      <td>InChI=1S/Na.H2O4S/c;1-5(2,3)4/h;(H2,1,2,3,4)/q...</td>\n",
       "      <td>Inactive</td>\n",
       "    </tr>\n",
       "    <tr>\n",
       "      <th>7145</th>\n",
       "      <td>InChI=1S/O2Si/c1-3-2</td>\n",
       "      <td>Inactive</td>\n",
       "    </tr>\n",
       "  </tbody>\n",
       "</table>\n",
       "<p>7146 rows × 2 columns</p>\n",
       "</div>"
      ],
      "text/plain": [
       "                                               StdInChI  \\\n",
       "0                                    InChI=1S/2Bi.3O.4H   \n",
       "1     InChI=1S/2C10H13N3.H2O4S/c2*11-10(12)13-6-5-8-...   \n",
       "2     InChI=1S/2C10H13NO4.3H2O/c2*1-10(11,9(14)15)5-...   \n",
       "3     InChI=1S/2C10H14N2.H2O4S/c2*1-12-7-3-5-10(12)9...   \n",
       "4     InChI=1S/2C10H15N3.H2O4S/c2*1-11-10(12-2)13-8-...   \n",
       "...                                                 ...   \n",
       "7141                      InChI=1S/N3.Na/c1-3-2;/q-1;+1   \n",
       "7142                   InChI=1S/NO3.Na/c2-1(3)4;/q-1;+1   \n",
       "7143                   InChI=1S/NO3.Tl/c2-1(3)4;/q-1;+1   \n",
       "7144  InChI=1S/Na.H2O4S/c;1-5(2,3)4/h;(H2,1,2,3,4)/q...   \n",
       "7145                               InChI=1S/O2Si/c1-3-2   \n",
       "\n",
       "     PUBCHEM_ACTIVITY_OUTCOME  \n",
       "0                    Inactive  \n",
       "1                    Inactive  \n",
       "2                    Inactive  \n",
       "3                    Inactive  \n",
       "4                    Inactive  \n",
       "...                       ...  \n",
       "7141                 Inactive  \n",
       "7142                 Inactive  \n",
       "7143                 Inactive  \n",
       "7144                 Inactive  \n",
       "7145                 Inactive  \n",
       "\n",
       "[7146 rows x 2 columns]"
      ]
     },
     "execution_count": 2,
     "metadata": {},
     "output_type": "execute_result"
    }
   ],
   "source": [
    "mito=pd.read_csv(\"../../PubChem_assay_summary_processed.csv\", usecols= lambda x: x not in not_to_be_selected_list)\n",
    "mito = mito.rename(columns={\"InChICode_standardised\": \"StdInChI\"})\n",
    "mito"
   ]
  },
  {
   "cell_type": "code",
   "execution_count": null,
   "metadata": {},
   "outputs": [],
   "source": [
    "GO= pd.read_csv(\"../../../Gene_Expression/GO_transforemed_inchi.csv\")\n",
    "GO= GO.rename(columns={\"InChICode_standardised\" : \"StdInChI\"})\n",
    "#GO = GO.drop(\"pert_id\", axis=1)\n",
    "GO"
   ]
  },
  {
   "cell_type": "code",
   "execution_count": null,
   "metadata": {},
   "outputs": [],
   "source": [
    "df= pd.merge(mito, GO, how='inner', on=['StdInChI'])\n",
    "df"
   ]
  },
  {
   "cell_type": "code",
   "execution_count": null,
   "metadata": {},
   "outputs": [],
   "source": [
    "print(df.PUBCHEM_ACTIVITY_OUTCOME.value_counts())\n",
    "len(df)"
   ]
  },
  {
   "cell_type": "code",
   "execution_count": null,
   "metadata": {},
   "outputs": [],
   "source": [
    "not_to_be_selected_list=[\n",
    "       'Activity Summary', 'Viability Activity', 'PUBCHEM_ACTIVITY_SCORE',\n",
    "       'Viability Potency (uM)', 'Viability Efficacy (%)', \"index\"]"
   ]
  },
  {
   "cell_type": "code",
   "execution_count": null,
   "metadata": {},
   "outputs": [],
   "source": [
    "df = df[df.columns[~df.columns.isin(not_to_be_selected_list)]]"
   ]
  },
  {
   "cell_type": "code",
   "execution_count": null,
   "metadata": {},
   "outputs": [],
   "source": [
    "df =df[df.PUBCHEM_ACTIVITY_OUTCOME != \"Inconclusive\"]\n",
    "df = df.replace({'PUBCHEM_ACTIVITY_OUTCOME': {\"Active\": 1, \"Inactive\": 0, \"Inconclusive\":3}})\n",
    "df.reset_index(drop=True)"
   ]
  },
  {
   "cell_type": "code",
   "execution_count": null,
   "metadata": {},
   "outputs": [],
   "source": [
    "print(df.PUBCHEM_ACTIVITY_OUTCOME.value_counts())\n",
    "len(df)"
   ]
  },
  {
   "cell_type": "code",
   "execution_count": null,
   "metadata": {},
   "outputs": [],
   "source": [
    "#No need to remove cell death as we are using only GO\n",
    "df.to_csv(\"GO_MitoOverlap.csv\", index=False)"
   ]
  },
  {
   "cell_type": "code",
   "execution_count": null,
   "metadata": {},
   "outputs": [],
   "source": []
  }
 ],
 "metadata": {
  "kernelspec": {
   "display_name": "Python 3 (ipykernel)",
   "language": "python",
   "name": "python3"
  },
  "language_info": {
   "codemirror_mode": {
    "name": "ipython",
    "version": 3
   },
   "file_extension": ".py",
   "mimetype": "text/x-python",
   "name": "python",
   "nbconvert_exporter": "python",
   "pygments_lexer": "ipython3",
   "version": "3.9.6"
  }
 },
 "nbformat": 4,
 "nbformat_minor": 4
}
